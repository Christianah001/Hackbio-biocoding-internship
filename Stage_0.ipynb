{
  "nbformat": 4,
  "nbformat_minor": 0,
  "metadata": {
    "colab": {
      "provenance": [],
      "authorship_tag": "ABX9TyNJXRvxYEvb76UrL1/Y9Zn7",
      "include_colab_link": true
    },
    "kernelspec": {
      "name": "python3",
      "display_name": "Python 3"
    },
    "language_info": {
      "name": "python"
    }
  },
  "cells": [
    {
      "cell_type": "markdown",
      "metadata": {
        "id": "view-in-github",
        "colab_type": "text"
      },
      "source": [
        "<a href=\"https://colab.research.google.com/github/Christianah001/Hackbio-biocoding-internship/blob/main/Stage_0.ipynb\" target=\"_parent\"><img src=\"https://colab.research.google.com/assets/colab-badge.svg\" alt=\"Open In Colab\"/></a>"
      ]
    },
    {
      "cell_type": "code",
      "execution_count": 2,
      "metadata": {
        "colab": {
          "base_uri": "https://localhost:8080/"
        },
        "id": "bUqnENy1HqLJ",
        "outputId": "5e6f7de2-1048-45b0-b70c-93353b2b27fc"
      },
      "outputs": [
        {
          "output_type": "stream",
          "name": "stdout",
          "text": [
            "[{'Name': 'Funmilayo Ligali', 'Slack Username': 'Funmilayo', 'Email': 'ligalifunmilayo@gmail.com', 'Hobby': 'Cooking', 'Country': 'Nigeria', 'Discipline': 'Biochemistry', 'Preferred Programming Language': 'Python'}]\n"
          ]
        }
      ],
      "source": [
        "#This is Funmilayo Ligali Hackbio first task\n",
        "Funmilayo_details = [{\n",
        "    \"Name\": \"Funmilayo Ligali\",\n",
        "    \"Slack Username\": \"Funmilayo\",\n",
        "    \"Email\": \"ligalifunmilayo@gmail.com\",\n",
        "    \"Hobby\": \"Cooking\",\n",
        "    \"Country\": \"Nigeria\",\n",
        "    \"Discipline\": \"Biochemistry\",\n",
        "    \"Preferred Programming Language\": \"Python\"\n",
        "}]\n",
        "\n",
        "print(Funmilayo_details)\n",
        "\n"
      ]
    },
    {
      "cell_type": "markdown",
      "source": [],
      "metadata": {
        "id": "W6MPI0oCIbFt"
      }
    }
  ]
}